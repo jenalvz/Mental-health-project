{
 "cells": [
  {
   "cell_type": "code",
   "execution_count": 1,
   "metadata": {},
   "outputs": [],
   "source": [
    "# %matplotlib inline"
   ]
  },
  {
   "cell_type": "code",
   "execution_count": 2,
   "metadata": {},
   "outputs": [
    {
     "data": {
      "text/html": [
       "<div>\n",
       "<style scoped>\n",
       "    .dataframe tbody tr th:only-of-type {\n",
       "        vertical-align: middle;\n",
       "    }\n",
       "\n",
       "    .dataframe tbody tr th {\n",
       "        vertical-align: top;\n",
       "    }\n",
       "\n",
       "    .dataframe thead th {\n",
       "        text-align: right;\n",
       "    }\n",
       "</style>\n",
       "<table border=\"1\" class=\"dataframe\">\n",
       "  <thead>\n",
       "    <tr style=\"text-align: right;\">\n",
       "      <th></th>\n",
       "      <th>Age</th>\n",
       "      <th>Gender</th>\n",
       "      <th>Occupation</th>\n",
       "      <th>Days_Indoors</th>\n",
       "      <th>Growing_Stress</th>\n",
       "      <th>Quarantine_Frustrations</th>\n",
       "      <th>Changes_Habits</th>\n",
       "      <th>Mental_Health_History</th>\n",
       "      <th>Weight_Change</th>\n",
       "      <th>Mood_Swings</th>\n",
       "      <th>Coping_Struggles</th>\n",
       "      <th>Work_Interest</th>\n",
       "      <th>Social_Weakness</th>\n",
       "    </tr>\n",
       "  </thead>\n",
       "  <tbody>\n",
       "    <tr>\n",
       "      <th>0</th>\n",
       "      <td>20-25</td>\n",
       "      <td>Female</td>\n",
       "      <td>Corporate</td>\n",
       "      <td>1-14 days</td>\n",
       "      <td>Yes</td>\n",
       "      <td>Yes</td>\n",
       "      <td>No</td>\n",
       "      <td>Yes</td>\n",
       "      <td>Yes</td>\n",
       "      <td>Medium</td>\n",
       "      <td>No</td>\n",
       "      <td>No</td>\n",
       "      <td>Yes</td>\n",
       "    </tr>\n",
       "    <tr>\n",
       "      <th>1</th>\n",
       "      <td>30-Above</td>\n",
       "      <td>Male</td>\n",
       "      <td>Others</td>\n",
       "      <td>31-60 days</td>\n",
       "      <td>Yes</td>\n",
       "      <td>Yes</td>\n",
       "      <td>Maybe</td>\n",
       "      <td>No</td>\n",
       "      <td>No</td>\n",
       "      <td>High</td>\n",
       "      <td>No</td>\n",
       "      <td>No</td>\n",
       "      <td>Yes</td>\n",
       "    </tr>\n",
       "    <tr>\n",
       "      <th>2</th>\n",
       "      <td>30-Above</td>\n",
       "      <td>Female</td>\n",
       "      <td>Student</td>\n",
       "      <td>Go out Every day</td>\n",
       "      <td>No</td>\n",
       "      <td>No</td>\n",
       "      <td>Yes</td>\n",
       "      <td>No</td>\n",
       "      <td>No</td>\n",
       "      <td>Medium</td>\n",
       "      <td>Yes</td>\n",
       "      <td>Maybe</td>\n",
       "      <td>No</td>\n",
       "    </tr>\n",
       "    <tr>\n",
       "      <th>3</th>\n",
       "      <td>25-30</td>\n",
       "      <td>Male</td>\n",
       "      <td>Others</td>\n",
       "      <td>1-14 days</td>\n",
       "      <td>Yes</td>\n",
       "      <td>No</td>\n",
       "      <td>Maybe</td>\n",
       "      <td>No</td>\n",
       "      <td>Maybe</td>\n",
       "      <td>Medium</td>\n",
       "      <td>No</td>\n",
       "      <td>Maybe</td>\n",
       "      <td>Yes</td>\n",
       "    </tr>\n",
       "    <tr>\n",
       "      <th>4</th>\n",
       "      <td>16-20</td>\n",
       "      <td>Female</td>\n",
       "      <td>Student</td>\n",
       "      <td>More than 2 months</td>\n",
       "      <td>Yes</td>\n",
       "      <td>Yes</td>\n",
       "      <td>Yes</td>\n",
       "      <td>No</td>\n",
       "      <td>Yes</td>\n",
       "      <td>Medium</td>\n",
       "      <td>Yes</td>\n",
       "      <td>Maybe</td>\n",
       "      <td>No</td>\n",
       "    </tr>\n",
       "  </tbody>\n",
       "</table>\n",
       "</div>"
      ],
      "text/plain": [
       "        Age  Gender Occupation        Days_Indoors Growing_Stress  \\\n",
       "0     20-25  Female  Corporate           1-14 days            Yes   \n",
       "1  30-Above    Male     Others          31-60 days            Yes   \n",
       "2  30-Above  Female    Student    Go out Every day             No   \n",
       "3     25-30    Male     Others           1-14 days            Yes   \n",
       "4     16-20  Female    Student  More than 2 months            Yes   \n",
       "\n",
       "  Quarantine_Frustrations Changes_Habits Mental_Health_History Weight_Change  \\\n",
       "0                     Yes             No                   Yes           Yes   \n",
       "1                     Yes          Maybe                    No            No   \n",
       "2                      No            Yes                    No            No   \n",
       "3                      No          Maybe                    No         Maybe   \n",
       "4                     Yes            Yes                    No           Yes   \n",
       "\n",
       "  Mood_Swings Coping_Struggles Work_Interest Social_Weakness  \n",
       "0      Medium               No            No             Yes  \n",
       "1        High               No            No             Yes  \n",
       "2      Medium              Yes         Maybe              No  \n",
       "3      Medium               No         Maybe             Yes  \n",
       "4      Medium              Yes         Maybe              No  "
      ]
     },
     "execution_count": 2,
     "metadata": {},
     "output_type": "execute_result"
    }
   ],
   "source": [
    "# import dependencies\n",
    "import pandas as pd\n",
    "import matplotlib.pyplot as plt\n",
    "\n",
    "# import view activity report\n",
    "mentalhealth_data_to_load = \"Resources/mental_health_finaldata.csv\"\n",
    "\n",
    "# \"Resources\\mental_health_finaldata_1.csv\"\n",
    "# read data\n",
    "mentalhealth_data = pd.read_csv(mentalhealth_data_to_load)\n",
    "\n",
    "#display df head for preview\n",
    "mentalhealth_data.head()\n",
    "\n",
    "# ran using downg_sqlalch environment"
   ]
  },
  {
   "cell_type": "code",
   "execution_count": 6,
   "metadata": {},
   "outputs": [
    {
     "name": "stdout",
     "output_type": "stream",
     "text": [
      "This study surveyed 824 young adults.\n"
     ]
    }
   ],
   "source": [
    "# what is the total number of young adults surveyed?\n",
    "total_surveyed =  mentalhealth_data['Gender'].count()\n",
    "print(f'This study surveyed {total_surveyed} young adults.')"
   ]
  },
  {
   "cell_type": "code",
   "execution_count": 7,
   "metadata": {},
   "outputs": [
    {
     "data": {
      "text/plain": [
       "Age\n",
       "30-Above    222\n",
       "16-20       211\n",
       "25-30       205\n",
       "20-25       186\n",
       "Name: count, dtype: int64"
      ]
     },
     "execution_count": 7,
     "metadata": {},
     "output_type": "execute_result"
    }
   ],
   "source": [
    "#what are the age ranges for the young adults studied?\n",
    "age_ranges = mentalhealth_data['Age'].value_counts()\n",
    "age_ranges"
   ]
  },
  {
   "cell_type": "code",
   "execution_count": 8,
   "metadata": {},
   "outputs": [
    {
     "data": {
      "image/png": "[encoded data removed]",
      "text/plain": [
       "<Figure size 640x480 with 1 Axes>"
      ]
     },
     "metadata": {},
     "output_type": "display_data"
    }
   ],
   "source": [
    "age_ranges.plot.pie()\n",
    "plt.show()"
   ]
  },
  {
   "cell_type": "code",
   "execution_count": null,
   "metadata": {},
   "outputs": [],
   "source": []
  }
 ],
 "metadata": {
  "kernelspec": {
   "display_name": "downgraded_sqlalchemy",
   "language": "python",
   "name": "downgraded_sqlalchemy"
  },
  "language_info": {
   "codemirror_mode": {
    "name": "ipython",
    "version": 3
   },
   "file_extension": ".py",
   "mimetype": "text/x-python",
   "name": "python",
   "nbconvert_exporter": "python",
   "pygments_lexer": "ipython3",
   "version": "3.10.12"
  }
 },
 "nbformat": 4,
 "nbformat_minor": 2
}
